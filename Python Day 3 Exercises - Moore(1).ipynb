{
 "cells": [
  {
   "cell_type": "markdown",
   "metadata": {},
   "source": [
    "Exercise 1: Make an empty list and call it names"
   ]
  },
  {
   "cell_type": "code",
   "execution_count": 1,
   "metadata": {},
   "outputs": [
    {
     "name": "stdout",
     "output_type": "stream",
     "text": [
      "[]\n"
     ]
    }
   ],
   "source": [
    "names = []\n",
    "print(names)"
   ]
  },
  {
   "cell_type": "markdown",
   "metadata": {},
   "source": [
    "Exercise 2: Make names filled with names of 5 people: Hannah, Victor, Sam, James, Sarah"
   ]
  },
  {
   "cell_type": "code",
   "execution_count": 2,
   "metadata": {},
   "outputs": [
    {
     "name": "stdout",
     "output_type": "stream",
     "text": [
      "['Hannah', 'Victor', 'Sam', 'James', 'Sarah']\n"
     ]
    }
   ],
   "source": [
    "names = ['Hannah', 'Victor', 'Sam', 'James', 'Sarah']\n",
    "print(names)"
   ]
  },
  {
   "cell_type": "markdown",
   "metadata": {},
   "source": [
    "Exercise 3: Make names sored in reverse. Print out the list using a for-loop"
   ]
  },
  {
   "cell_type": "code",
   "execution_count": 3,
   "metadata": {},
   "outputs": [
    {
     "name": "stdout",
     "output_type": "stream",
     "text": [
      "['Victor', 'Sarah', 'Sam', 'James', 'Hannah']\n"
     ]
    }
   ],
   "source": [
    "names.sort(reverse = True)\n",
    "x = 0\n",
    "for x in range(1):\n",
    "    print(names)\n",
    "    x += 1\n",
    "    "
   ]
  },
  {
   "cell_type": "markdown",
   "metadata": {},
   "source": [
    "Exercise 4: Make names sorted alphabetically. Print out the list using while loop"
   ]
  },
  {
   "cell_type": "code",
   "execution_count": 4,
   "metadata": {},
   "outputs": [
    {
     "name": "stdout",
     "output_type": "stream",
     "text": [
      "['Hannah', 'James', 'Sam', 'Sarah', 'Victor']\n"
     ]
    }
   ],
   "source": [
    "names.sort()\n",
    "x=0\n",
    "while x < 1:\n",
    "    print(names)\n",
    "    x += 1"
   ]
  },
  {
   "cell_type": "markdown",
   "metadata": {},
   "source": [
    "Exercise 5: Pull out the fourth item from names and print it out"
   ]
  },
  {
   "cell_type": "code",
   "execution_count": 5,
   "metadata": {},
   "outputs": [
    {
     "name": "stdout",
     "output_type": "stream",
     "text": [
      "['Hannah', 'James', 'Sam', 'Victor']\n"
     ]
    }
   ],
   "source": [
    "names.pop(3)\n",
    "print(names)"
   ]
  },
  {
   "cell_type": "markdown",
   "metadata": {},
   "source": [
    "Exercise 6: Pull out the first item from names and print it out"
   ]
  },
  {
   "cell_type": "code",
   "execution_count": 6,
   "metadata": {},
   "outputs": [
    {
     "name": "stdout",
     "output_type": "stream",
     "text": [
      "Hannah\n"
     ]
    }
   ],
   "source": [
    "print(names[0])"
   ]
  },
  {
   "cell_type": "markdown",
   "metadata": {},
   "source": [
    "Exercise 7: Make a variable named fruits that contains a string \"Apples, Oranges, Bananas, Pineapples, Persimmons, Dragonfruit\" and make it into a list splitting it by the commas."
   ]
  },
  {
   "cell_type": "code",
   "execution_count": 7,
   "metadata": {},
   "outputs": [
    {
     "name": "stdout",
     "output_type": "stream",
     "text": [
      "['Apples', 'Oranges', 'Bananas', 'Pineapples', 'Persimmons', 'Dragonfruit']\n"
     ]
    }
   ],
   "source": [
    "fruit = \"Apples, Oranges, Bananas, Pineapples, Persimmons, Dragonfruit\"\n",
    "\n",
    "x = fruit.split(\", \")\n",
    "print(x)"
   ]
  },
  {
   "cell_type": "markdown",
   "metadata": {},
   "source": [
    "Exercise 8: Write a program to generate a right-triangle using asterisks(*) where the base of the triangle has 10 asterisks"
   ]
  },
  {
   "cell_type": "code",
   "execution_count": 8,
   "metadata": {},
   "outputs": [
    {
     "name": "stdout",
     "output_type": "stream",
     "text": [
      "* \n",
      "* * \n",
      "* * * \n",
      "* * * * \n",
      "* * * * * \n",
      "* * * * * * \n",
      "* * * * * * * \n",
      "* * * * * * * * \n",
      "* * * * * * * * * \n",
      "* * * * * * * * * * \n"
     ]
    }
   ],
   "source": [
    "num = 1\n",
    "_ = 1\n",
    "\n",
    "for _ in range(10):\n",
    "    print(\"* \"*num)\n",
    "    num += 1\n",
    "    _ += 1"
   ]
  },
  {
   "cell_type": "markdown",
   "metadata": {},
   "source": [
    "Exercise 9: Create a list of the first 10 square numbers. i.e. the square of each integer from 1 to 10. "
   ]
  },
  {
   "cell_type": "code",
   "execution_count": 9,
   "metadata": {},
   "outputs": [
    {
     "name": "stdout",
     "output_type": "stream",
     "text": [
      "[0, 1, 4, 9, 16, 25, 36, 49, 64, 81]\n"
     ]
    }
   ],
   "source": [
    "squares = []\n",
    "for i in range(10):\n",
    "    square = i ** 2\n",
    "    squares.append(square)\n",
    "    i += 1\n",
    "print(squares)"
   ]
  },
  {
   "cell_type": "markdown",
   "metadata": {},
   "source": [
    "Exercise 10: Create a multiplication table from 1 to 10"
   ]
  },
  {
   "cell_type": "code",
   "execution_count": 10,
   "metadata": {},
   "outputs": [
    {
     "name": "stdout",
     "output_type": "stream",
     "text": [
      "1\t2\t3\t4\t5\t6\t7\t8\t9\t10\t\n",
      "\n",
      "2\t4\t6\t8\t10\t12\t14\t16\t18\t20\t\n",
      "\n",
      "3\t6\t9\t12\t15\t18\t21\t24\t27\t30\t\n",
      "\n",
      "4\t8\t12\t16\t20\t24\t28\t32\t36\t40\t\n",
      "\n",
      "5\t10\t15\t20\t25\t30\t35\t40\t45\t50\t\n",
      "\n",
      "6\t12\t18\t24\t30\t36\t42\t48\t54\t60\t\n",
      "\n",
      "7\t14\t21\t28\t35\t42\t49\t56\t63\t70\t\n",
      "\n",
      "8\t16\t24\t32\t40\t48\t56\t64\t72\t80\t\n",
      "\n",
      "9\t18\t27\t36\t45\t54\t63\t72\t81\t90\t\n",
      "\n",
      "10\t20\t30\t40\t50\t60\t70\t80\t90\t100\t\n",
      "\n"
     ]
    }
   ],
   "source": [
    "for i in range(1,11):\n",
    "    for j in range(1,11):\n",
    "        print(i*j, end = \"\\t\")\n",
    "    print(\"\\n\")   "
   ]
  },
  {
   "cell_type": "markdown",
   "metadata": {},
   "source": [
    "Exercise 11: Write a program that gets test scores from a user and then calculates and displays the average of the scores that have been enter. The output of the program should show the original scores and the average. "
   ]
  },
  {
   "cell_type": "code",
   "execution_count": 11,
   "metadata": {},
   "outputs": [
    {
     "name": "stdout",
     "output_type": "stream",
     "text": [
      "Please enter test scores to compute average or type 'q' to quit 15\n",
      "[15.0]\n",
      "Average: 15.00\n",
      "Please enter test scores to compute average or type 'q' to quit 10\n",
      "[15.0, 10.0]\n",
      "Average: 12.50\n",
      "Please enter test scores to compute average or type 'q' to quit 12\n",
      "[15.0, 10.0, 12.0]\n",
      "Average: 12.33\n",
      "Please enter test scores to compute average or type 'q' to quit 100\n",
      "[15.0, 10.0, 12.0, 100.0]\n",
      "Average: 34.25\n",
      "Please enter test scores to compute average or type 'q' to quit q\n",
      "Quit\n"
     ]
    }
   ],
   "source": [
    "ask = 1\n",
    "scores = []\n",
    "while ask != \"q\":\n",
    "    ask = input(\"Please enter test scores to compute average or type 'q' to quit \")\n",
    "    if ask == \"q\":\n",
    "        break\n",
    "    else:\n",
    "        ask = float(ask)\n",
    "    scores.append(ask)\n",
    "    add = sum(scores)\n",
    "    length = len(scores)\n",
    "    print(scores)\n",
    "    print(f\"Average: {add/length:.2f}\")\n",
    "\n",
    "print(\"Quit\")\n",
    "    \n",
    "    "
   ]
  },
  {
   "cell_type": "markdown",
   "metadata": {},
   "source": [
    "Challenge:\n",
    "Write a program that maintains a list of movies, and the user can list all the movies, add a movie to the list, or delete a movie from the list.\n",
    "\n",
    "Example\n",
    "\n",
    "###### COMMAND MENU\n",
    "```\n",
    "list - list all movies\n",
    "add - add a movie\n",
    "del - delete a movie\n",
    "exit - exit program \n",
    "```\n",
    "\n",
    "###### Command: list\n",
    "``` \n",
    " 1. Toy Story\n",
    " 2. Lion King\n",
    " 3. Frozen\n",
    " ```\n",
    "\n",
    "###### Command: add\n",
    " ```\n",
    " Name: Snow White\n",
    " Snow White was added.\n",
    " ```\n",
    "\n",
    "###### Command: del\n",
    "```\n",
    " Number: 3\n",
    " Frozen was deleted.```\n"
   ]
  },
  {
   "cell_type": "code",
   "execution_count": 12,
   "metadata": {},
   "outputs": [
    {
     "name": "stdout",
     "output_type": "stream",
     "text": [
      "Hello and welcome to your movie storage device Menu: \n",
      "Type '1' to list all movies \n",
      "Type '2' to add a movie \n",
      "Type '3' to delete a movie \n",
      "Type '4' to exit program1\n",
      "--------------------\n",
      "1: The Princess Bride\n",
      "2: The Fifth Element\n",
      "3: Kill Bill Vol. 1\n",
      "4: Muppet Treasure Island\n",
      "Hello and welcome to your movie storage device Menu: \n",
      "Type '1' to list all movies \n",
      "Type '2' to add a movie \n",
      "Type '3' to delete a movie \n",
      "Type '4' to exit program2\n",
      "--------------------\n",
      "Please type a movie to add: Top Gun\n",
      "Added Top Gun\n",
      "Hello and welcome to your movie storage device Menu: \n",
      "Type '1' to list all movies \n",
      "Type '2' to add a movie \n",
      "Type '3' to delete a movie \n",
      "Type '4' to exit program1\n",
      "--------------------\n",
      "1: The Princess Bride\n",
      "2: The Fifth Element\n",
      "3: Kill Bill Vol. 1\n",
      "4: Muppet Treasure Island\n",
      "5: Top Gun\n",
      "Hello and welcome to your movie storage device Menu: \n",
      "Type '1' to list all movies \n",
      "Type '2' to add a movie \n",
      "Type '3' to delete a movie \n",
      "Type '4' to exit program3\n",
      "--------------------\n",
      "['The Princess Bride', 'The Fifth Element', 'Kill Bill Vol. 1', 'Muppet Treasure Island', 'Top Gun']\n",
      "Please choose a number between 1 and 5. Example: Typing '1' will delete the first movie from the list 1\n",
      "Delete: The Princess Bride\n",
      "Hello and welcome to your movie storage device Menu: \n",
      "Type '1' to list all movies \n",
      "Type '2' to add a movie \n",
      "Type '3' to delete a movie \n",
      "Type '4' to exit program4\n",
      "--------------------\n",
      "Quit\n"
     ]
    }
   ],
   "source": [
    "movies = [\"The Princess Bride\", \"The Fifth Element\", \"Kill Bill Vol. 1\", \"Muppet Treasure Island\"]  \n",
    "menu = 6\n",
    "def pmovie(movies):\n",
    "    count = 0\n",
    "    pos = 0\n",
    "    length = len(movies) - 1\n",
    "    \n",
    "    for count in range(len(movies)):\n",
    "        print(f\"{len(movies) - length}: {movies[pos]}\\n\")\n",
    "        count += 1\n",
    "        pos+=1\n",
    "        length -= 1\n",
    "        \n",
    "while menu != 4:\n",
    "    menu = int(input(\"Hello and welcome to your movie storage device Menu: \\nType '1' to list all movies \\nType '2' to add a movie \\nType '3' to delete a movie \\nType '4' to exit program\"))\n",
    "    print(\"-\"*20)\n",
    "    if menu == 1:       \n",
    "        pmovie(movies)\n",
    "        continue\n",
    "    elif menu == 2: \n",
    "        movie = input(\"Please type a movie to add: \")\n",
    "        print(f\"\\nAdded {movie}\")\n",
    "        movies.append(movie)\n",
    "        continue\n",
    "    elif menu == 3:\n",
    "        delete = int(input(f\"Please choose a number between 1 and {len(movies)}. Example: Typing '1' will delete the first movie from the list \"))\n",
    "        print(f\"Delete: {movies[delete-1]}\\n\")\n",
    "        movies.pop(delete-1)\n",
    "        continue\n",
    "            \n",
    "print(\"Quit\")                \n",
    "            \n",
    "            "
   ]
  },
  {
   "cell_type": "code",
   "execution_count": null,
   "metadata": {},
   "outputs": [],
   "source": []
  },
  {
   "cell_type": "code",
   "execution_count": null,
   "metadata": {},
   "outputs": [],
   "source": []
  }
 ],
 "metadata": {
  "kernelspec": {
   "display_name": "Python 3",
   "language": "python",
   "name": "python3"
  },
  "language_info": {
   "codemirror_mode": {
    "name": "ipython",
    "version": 3
   },
   "file_extension": ".py",
   "mimetype": "text/x-python",
   "name": "python",
   "nbconvert_exporter": "python",
   "pygments_lexer": "ipython3",
   "version": "3.8.3"
  }
 },
 "nbformat": 4,
 "nbformat_minor": 4
}
