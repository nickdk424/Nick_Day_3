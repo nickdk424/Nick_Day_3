{
 "cells": [
  {
   "cell_type": "code",
   "execution_count": 10,
   "metadata": {},
   "outputs": [
    {
     "name": "stdout",
     "output_type": "stream",
     "text": [
      "[19, 22, 8, 10, 7]\n"
     ]
    }
   ],
   "source": [
    "import random as rand\n",
    "\n",
    "numbers = [rand.randint(1,25), rand.randint(1,25), rand.randint(1,25), rand.randint(1,25), rand.randint(1,25)]\n",
    "print(numbers)"
   ]
  },
  {
   "cell_type": "code",
   "execution_count": 15,
   "metadata": {},
   "outputs": [
    {
     "name": "stdout",
     "output_type": "stream",
     "text": [
      "[24, 22, 22, 10, 14]\n"
     ]
    }
   ],
   "source": [
    "import random as rand\n",
    "\n",
    "num1 = rand.randint(1,25)\n",
    "num2 = rand.randint(1,25)\n",
    "num3 = rand.randint(1,25)\n",
    "num4 = rand.randint(1,25)\n",
    "num5 = rand.randint(1,25)\n",
    "\n",
    "numbers = [num1, num2, num3, num4, num5]\n",
    "\n",
    "print(numbers)"
   ]
  },
  {
   "cell_type": "code",
   "execution_count": 16,
   "metadata": {},
   "outputs": [
    {
     "name": "stdout",
     "output_type": "stream",
     "text": [
      "[1, 2, 3, 2, 3, 5]\n",
      "[1, 2, 3, 2, 3, 5, [2, 3, 5]]\n"
     ]
    }
   ],
   "source": [
    "grocery = [1, 2, 3]\n",
    "others = [2,3,5]\n",
    "\n",
    "grocery.extend(others)\n",
    "print(grocery)\n",
    "\n",
    "grocery.append(others)\n",
    "print(grocery)"
   ]
  },
  {
   "cell_type": "code",
   "execution_count": 17,
   "metadata": {},
   "outputs": [
    {
     "name": "stdout",
     "output_type": "stream",
     "text": [
      "[1, 2, 3, 2, 3, 5]\n"
     ]
    }
   ],
   "source": [
    "grocery.pop()\n",
    "print(grocery)"
   ]
  },
  {
   "cell_type": "code",
   "execution_count": 18,
   "metadata": {},
   "outputs": [
    {
     "name": "stdout",
     "output_type": "stream",
     "text": [
      "[2, 3, 5]\n"
     ]
    },
    {
     "ename": "TypeError",
     "evalue": "'list' object cannot be interpreted as an integer",
     "output_type": "error",
     "traceback": [
      "\u001b[1;31m---------------------------------------------------------------------------\u001b[0m",
      "\u001b[1;31mTypeError\u001b[0m                                 Traceback (most recent call last)",
      "\u001b[1;32m<ipython-input-18-badd16c2dd96>\u001b[0m in \u001b[0;36m<module>\u001b[1;34m\u001b[0m\n\u001b[0;32m      1\u001b[0m \u001b[0mgrocery\u001b[0m\u001b[1;33m.\u001b[0m\u001b[0mappend\u001b[0m\u001b[1;33m(\u001b[0m\u001b[0mothers\u001b[0m\u001b[1;33m)\u001b[0m\u001b[1;33m\u001b[0m\u001b[1;33m\u001b[0m\u001b[0m\n\u001b[0;32m      2\u001b[0m \u001b[0mprint\u001b[0m\u001b[1;33m(\u001b[0m\u001b[0mothers\u001b[0m\u001b[1;33m)\u001b[0m\u001b[1;33m\u001b[0m\u001b[1;33m\u001b[0m\u001b[0m\n\u001b[1;32m----> 3\u001b[1;33m \u001b[0mgrocery\u001b[0m\u001b[1;33m.\u001b[0m\u001b[0mpop\u001b[0m\u001b[1;33m(\u001b[0m\u001b[1;33m[\u001b[0m\u001b[1;36m2\u001b[0m\u001b[1;33m,\u001b[0m\u001b[1;36m3\u001b[0m\u001b[1;33m,\u001b[0m\u001b[1;36m5\u001b[0m\u001b[1;33m]\u001b[0m\u001b[1;33m)\u001b[0m\u001b[1;33m\u001b[0m\u001b[1;33m\u001b[0m\u001b[0m\n\u001b[0m",
      "\u001b[1;31mTypeError\u001b[0m: 'list' object cannot be interpreted as an integer"
     ]
    }
   ],
   "source": [
    "grocery.append(others)\n",
    "print(others)"
   ]
  },
  {
   "cell_type": "code",
   "execution_count": 31,
   "metadata": {},
   "outputs": [
    {
     "name": "stdout",
     "output_type": "stream",
     "text": [
      "[22, 19, 1, 12, 20] 1543607730880\n",
      "[19, 1, 12, 20] 1543589884864\n"
     ]
    }
   ],
   "source": [
    "import random as rand\n",
    "\n",
    "num1 = rand.randint(1,25)\n",
    "num2 = rand.randint(1,25)\n",
    "num3 = rand.randint(1,25)\n",
    "num4 = rand.randint(1,25)\n",
    "num5 = rand.randint(1,25)\n",
    "\n",
    "numbers = [num1, num2, num3, num4, num5]\n",
    "numbers2 = numbers.copy()\n",
    "numbers.remove(max(numbers))\n",
    "\n",
    "print(numbers2, id(numbers2))\n",
    "print(numbers, id(numbers))"
   ]
  },
  {
   "cell_type": "code",
   "execution_count": 35,
   "metadata": {},
   "outputs": [
    {
     "name": "stdout",
     "output_type": "stream",
     "text": [
      "(22, 19, 1, 12, 20)\n"
     ]
    }
   ],
   "source": [
    "tuples = tuple(numbers2)\n",
    "print(tuples)"
   ]
  },
  {
   "cell_type": "code",
   "execution_count": 41,
   "metadata": {},
   "outputs": [
    {
     "ename": "SyntaxError",
     "evalue": "invalid syntax (<ipython-input-41-07d2632e16c5>, line 1)",
     "output_type": "error",
     "traceback": [
      "\u001b[1;36m  File \u001b[1;32m\"<ipython-input-41-07d2632e16c5>\"\u001b[1;36m, line \u001b[1;32m1\u001b[0m\n\u001b[1;33m    for x in range(0, 1000001:.,f, 100000):\u001b[0m\n\u001b[1;37m                             ^\u001b[0m\n\u001b[1;31mSyntaxError\u001b[0m\u001b[1;31m:\u001b[0m invalid syntax\n"
     ]
    }
   ],
   "source": [
    "for x in range(0, 1000001:.,f, 100000):\n",
    "    print(x)"
   ]
  },
  {
   "cell_type": "code",
   "execution_count": 43,
   "metadata": {},
   "outputs": [
    {
     "name": "stdout",
     "output_type": "stream",
     "text": [
      "1\n",
      "2\n",
      "Whoa Nelly\n",
      "4\n",
      "5\n"
     ]
    }
   ],
   "source": [
    "counter = 1\n",
    "\n",
    "while counter <= 5:\n",
    "    if counter == 3:\n",
    "        print(\"Whoa Nelly\")\n",
    "    else:\n",
    "        print(counter)\n",
    "    counter += 1"
   ]
  },
  {
   "cell_type": "code",
   "execution_count": 50,
   "metadata": {},
   "outputs": [
    {
     "name": "stdout",
     "output_type": "stream",
     "text": [
      "Your yearly total for year 1 is $10,500.00\n",
      "Your yearly total for year 2 is $11,025.00\n",
      "Your yearly total for year 3 is $11,576.25\n",
      "Your yearly total for year 4 is $12,155.06\n",
      "Your yearly total for year 5 is $12,762.82\n",
      "Your yearly total for year 6 is $13,400.96\n",
      "Your yearly total for year 7 is $14,071.00\n",
      "Your yearly total for year 8 is $14,774.55\n",
      "Your yearly total for year 9 is $15,513.28\n",
      "Your yearly total for year 10 is $16,288.95\n",
      "Your yearly total for year 11 is $17,103.39\n",
      "Your yearly total for year 12 is $17,958.56\n",
      "Your yearly total for year 13 is $18,856.49\n",
      "Your yearly total for year 14 is $19,799.32\n",
      "Your yearly total for year 15 is $20,789.28\n",
      "Your yearly total for year 16 is $21,828.75\n",
      "Your yearly total for year 17 is $22,920.18\n",
      "Your yearly total for year 18 is $24,066.19\n",
      "Your yearly total for year 19 is $25,269.50\n",
      "Your yearly total for year 20 is $26,532.98\n"
     ]
    }
   ],
   "source": [
    "invest = 10000\n",
    "count = 1\n",
    "\n",
    "while count <= 20:\n",
    "    invest = invest * 1.05\n",
    "    print(f\"Your yearly total for year {count} is ${invest:,.2f}\")\n",
    "    count += 1"
   ]
  },
  {
   "cell_type": "code",
   "execution_count": null,
   "metadata": {},
   "outputs": [],
   "source": []
  }
 ],
 "metadata": {
  "kernelspec": {
   "display_name": "Python 3",
   "language": "python",
   "name": "python3"
  },
  "language_info": {
   "codemirror_mode": {
    "name": "ipython",
    "version": 3
   },
   "file_extension": ".py",
   "mimetype": "text/x-python",
   "name": "python",
   "nbconvert_exporter": "python",
   "pygments_lexer": "ipython3",
   "version": "3.8.3"
  }
 },
 "nbformat": 4,
 "nbformat_minor": 4
}
